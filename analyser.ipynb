{
 "cells": [
  {
   "attachments": {},
   "cell_type": "markdown",
   "metadata": {},
   "source": [
    "### set up dependencies"
   ]
  },
  {
   "cell_type": "code",
   "execution_count": 44,
   "metadata": {},
   "outputs": [],
   "source": [
    "import numpy as np\n",
    "import pandas as pd\n",
    "\n",
    "import re\n",
    "from nltk.corpus import stopwords \n",
    "from nltk.stem import WordNetLemmatizer\n",
    "\n",
    "from sklearn.pipeline import Pipeline\n",
    "from sklearn.feature_extraction.text import TfidfVectorizer\n",
    "from sklearn.neural_network import MLPClassifier\n",
    "from sklearn.metrics import accuracy_score\n",
    "\n",
    "from gensim.models import Word2Vec"
   ]
  },
  {
   "attachments": {},
   "cell_type": "markdown",
   "metadata": {},
   "source": [
    "### get data"
   ]
  },
  {
   "cell_type": "code",
   "execution_count": 19,
   "metadata": {},
   "outputs": [],
   "source": [
    "# load dataset into memory\n",
    "def load_data (filename):\n",
    "    df = pd.read_csv(filename)\n",
    "    corpus = df[\"text\"]\n",
    "    target = df[\"label\"]\n",
    "    return corpus, target\n",
    "\n",
    "corpus_valid, target_valid = load_data(\"IMDB/Valid.csv\")\n",
    "corpus_train, target_train = load_data(\"IMDB/Train.csv\")\n",
    "corpus_test, target_test = load_data(\"IMDB/Test.csv\")"
   ]
  },
  {
   "cell_type": "code",
   "execution_count": 20,
   "metadata": {},
   "outputs": [
    {
     "name": "stdout",
     "output_type": "stream",
     "text": [
      "Possible sentiments are [0 1]\n",
      "The number of reviews for training is 40000\n",
      "Training corpus is 49% positive reviews\n"
     ]
    },
    {
     "data": {
      "text/html": [
       "<div>\n",
       "<style scoped>\n",
       "    .dataframe tbody tr th:only-of-type {\n",
       "        vertical-align: middle;\n",
       "    }\n",
       "\n",
       "    .dataframe tbody tr th {\n",
       "        vertical-align: top;\n",
       "    }\n",
       "\n",
       "    .dataframe thead th {\n",
       "        text-align: right;\n",
       "    }\n",
       "</style>\n",
       "<table border=\"1\" class=\"dataframe\">\n",
       "  <thead>\n",
       "    <tr style=\"text-align: right;\">\n",
       "      <th></th>\n",
       "      <th>raw text example</th>\n",
       "    </tr>\n",
       "  </thead>\n",
       "  <tbody>\n",
       "    <tr>\n",
       "      <th>0</th>\n",
       "      <td>A terrible movie as everyone has said. What ma...</td>\n",
       "    </tr>\n",
       "  </tbody>\n",
       "</table>\n",
       "</div>"
      ],
      "text/plain": [
       "                                    raw text example\n",
       "0  A terrible movie as everyone has said. What ma..."
      ]
     },
     "execution_count": 20,
     "metadata": {},
     "output_type": "execute_result"
    }
   ],
   "source": [
    "print(\"Possible sentiments are\", np.unique(target_train))\n",
    "print(\"The number of reviews for training is\", len(corpus_train))\n",
    "size = len(corpus_train) + len(corpus_valid) + len(corpus_test)\n",
    "print(\"Training corpus is \" + str(int(100*np.sum(target_train)/len(target_train))) + \"% positive reviews\")\n",
    "info = pd.DataFrame([corpus_train[5]], columns=[\"raw text example\"]) # use to track progress\n",
    "info"
   ]
  },
  {
   "attachments": {},
   "cell_type": "markdown",
   "metadata": {},
   "source": [
    "### clean up data"
   ]
  },
  {
   "cell_type": "code",
   "execution_count": 21,
   "metadata": {},
   "outputs": [],
   "source": [
    "stop_words = stopwords.words(\"english\")\n",
    "lemmatizer = WordNetLemmatizer()\n",
    "\n",
    "# turn the dataset into clean tokens\n",
    "def clean_data(doc):\n",
    "    doc = re.sub(r'<[^>]+>', '', doc)  # remove HTML tags\n",
    "    doc = re.sub(r'\\W+', ' ', doc) # remove special characters\n",
    "    \n",
    "    # lemmatize tokens and exclude stop words\n",
    "    #tokens = [lemmatizer.lemmatize(word) for word in doc.split() if word.lower() not in stop_words]\n",
    "    tokens = [word.lower() for word in doc.split() if word.lower() not in stop_words]\n",
    "\n",
    "    # put tokens back into string format for tfidf vectorizer\n",
    "    clean_doc = \" \".join(tokens)\n",
    "\n",
    "    return clean_doc"
   ]
  },
  {
   "cell_type": "code",
   "execution_count": 22,
   "metadata": {},
   "outputs": [],
   "source": [
    "X_train = []\n",
    "y_train = target_train\n",
    "for line in corpus_train:\n",
    "    clean_line = clean_data(line)\n",
    "    X_train.append(clean_line)\n",
    "\n",
    "X_valid = []\n",
    "y_valid = target_valid\n",
    "for line in corpus_valid:\n",
    "    clean_line = clean_data(line)\n",
    "    X_valid.append(clean_line)\n",
    "\n",
    "X_test = []\n",
    "y_test = target_test\n",
    "for line in corpus_test:\n",
    "    clean_line = clean_data(line)\n",
    "    X_test.append(clean_line)"
   ]
  },
  {
   "cell_type": "code",
   "execution_count": 6,
   "metadata": {},
   "outputs": [
    {
     "data": {
      "text/html": [
       "<div>\n",
       "<style scoped>\n",
       "    .dataframe tbody tr th:only-of-type {\n",
       "        vertical-align: middle;\n",
       "    }\n",
       "\n",
       "    .dataframe tbody tr th {\n",
       "        vertical-align: top;\n",
       "    }\n",
       "\n",
       "    .dataframe thead th {\n",
       "        text-align: right;\n",
       "    }\n",
       "</style>\n",
       "<table border=\"1\" class=\"dataframe\">\n",
       "  <thead>\n",
       "    <tr style=\"text-align: right;\">\n",
       "      <th></th>\n",
       "      <th>raw text example</th>\n",
       "      <th>clean text example</th>\n",
       "      <th>sentiment</th>\n",
       "      <th>num tokens in corpus</th>\n",
       "      <th>avg review length</th>\n",
       "      <th>max review length</th>\n",
       "      <th>min review length</th>\n",
       "    </tr>\n",
       "  </thead>\n",
       "  <tbody>\n",
       "    <tr>\n",
       "      <th>0</th>\n",
       "      <td>A terrible movie as everyone has said. What ma...</td>\n",
       "      <td>terrible movie everyone said made laugh cameo ...</td>\n",
       "      <td>0</td>\n",
       "      <td>4786521</td>\n",
       "      <td>119.663025</td>\n",
       "      <td>1429</td>\n",
       "      <td>3</td>\n",
       "    </tr>\n",
       "  </tbody>\n",
       "</table>\n",
       "</div>"
      ],
      "text/plain": [
       "                                    raw text example  \\\n",
       "0  A terrible movie as everyone has said. What ma...   \n",
       "\n",
       "                                  clean text example  sentiment  \\\n",
       "0  terrible movie everyone said made laugh cameo ...          0   \n",
       "\n",
       "   num tokens in corpus  avg review length  max review length  \\\n",
       "0               4786521         119.663025               1429   \n",
       "\n",
       "   min review length  \n",
       "0                  3  "
      ]
     },
     "execution_count": 6,
     "metadata": {},
     "output_type": "execute_result"
    }
   ],
   "source": [
    "info[\"clean text example\"] = X_train[5]\n",
    "info[\"sentiment\"] = y_train[5]\n",
    "review_len = [sum(1 for word in review.split()) for review in X_train]\n",
    "info[\"num tokens in corpus\"] = np.sum(review_len)\n",
    "info[\"avg review length\"] = np.mean(review_len)\n",
    "info[\"max review length\"] = np.max(review_len)\n",
    "info[\"min review length\"] = np.min(review_len)\n",
    "info"
   ]
  },
  {
   "attachments": {},
   "cell_type": "markdown",
   "metadata": {},
   "source": [
    "## TF-IDF"
   ]
  },
  {
   "cell_type": "code",
   "execution_count": 50,
   "metadata": {},
   "outputs": [],
   "source": [
    "def define_model_tfidf(size):\n",
    "    model_tfidf = Pipeline([\n",
    "        (\"vect\", TfidfVectorizer(min_df=0.1)), \n",
    "        (\"clf\", MLPClassifier(hidden_layer_sizes=(size,), max_iter=500))\n",
    "    ])\n",
    "    model_tfidf.fit(X_train, y_train)\n",
    "    predict_train = model_tfidf.predict(X_train)\n",
    "    train_accuracy = accuracy_score(y_train, predict_train)\n",
    "    \n",
    "    predict_valid = model_tfidf.predict(X_valid)\n",
    "    valid_accuracy = accuracy_score(y_valid, predict_valid)\n",
    "    return model_tfidf, train_accuracy, valid_accuracy"
   ]
  },
  {
   "cell_type": "code",
   "execution_count": 51,
   "metadata": {},
   "outputs": [
    {
     "name": "stderr",
     "output_type": "stream",
     "text": [
      "/Users/teodorastereciu/opt/miniconda3/lib/python3.9/site-packages/sklearn/neural_network/_multilayer_perceptron.py:702: ConvergenceWarning: Stochastic Optimizer: Maximum iterations (500) reached and the optimization hasn't converged yet.\n",
      "  warnings.warn(\n",
      "/Users/teodorastereciu/opt/miniconda3/lib/python3.9/site-packages/sklearn/neural_network/_multilayer_perceptron.py:702: ConvergenceWarning: Stochastic Optimizer: Maximum iterations (500) reached and the optimization hasn't converged yet.\n",
      "  warnings.warn(\n"
     ]
    }
   ],
   "source": [
    "model_tfidf100, train_accuracy100, valid_accuracy100 = define_model_tfidf(100)\n",
    "model_tfidf200, train_accuracy200, valid_accuracy200 = define_model_tfidf(200)\n",
    "#model_tfidf500, train_accuracy500, valid_accuracy500 = define_model_tfidf(500)"
   ]
  },
  {
   "cell_type": "code",
   "execution_count": 54,
   "metadata": {},
   "outputs": [
    {
     "name": "stdout",
     "output_type": "stream",
     "text": [
      "model100: 0.91355 0.6918\n",
      "model200: 0.998525 0.681\n"
     ]
    }
   ],
   "source": [
    "print(\"model100:\", train_accuracy100, valid_accuracy100)\n",
    "print(\"model200:\", train_accuracy200, valid_accuracy200)\n",
    "#print(\"model500:\", train_accuracy500, valid_accuracy500)"
   ]
  },
  {
   "cell_type": "code",
   "execution_count": null,
   "metadata": {},
   "outputs": [
    {
     "name": "stdout",
     "output_type": "stream",
     "text": [
      "455\n",
      "460\n",
      "746\n"
     ]
    },
    {
     "data": {
      "image/png": "[encoded data removed]",
      "text/plain": [
       "<Figure size 640x480 with 1 Axes>"
      ]
     },
     "metadata": {},
     "output_type": "display_data"
    }
   ],
   "source": [
    "print(model_tfidf100['clf'].n_iter_) #455\n",
    "print(model_tfidf200['clf'].n_iter_) #460\n",
    "print(model_tfidf500['clf'].n_iter_) #746\n",
    "\n",
    "from sklearn.model_selection import learning_curve\n",
    "loss_values = model_tfidf200['clf'].loss_curve_\n",
    "\n",
    "import matplotlib.pyplot as plt\n",
    "\n",
    "plt.plot(loss_values)\n",
    "plt.show()"
   ]
  },
  {
   "attachments": {},
   "cell_type": "markdown",
   "metadata": {},
   "source": [
    "# Word2Vec"
   ]
  },
  {
   "cell_type": "code",
   "execution_count": null,
   "metadata": {},
   "outputs": [],
   "source": [
    "# tokenize for word2vec\n",
    "X_train_list = [[word for word in line.split()] for line in X_train]\n",
    "# initialize the word2vec model\n",
    "w2v_model = Word2Vec(X_train_list,\n",
    "                    vector_size=100,\n",
    "                    window=5,\n",
    "                    min_count=2)"
   ]
  },
  {
   "cell_type": "code",
   "execution_count": 74,
   "metadata": {},
   "outputs": [],
   "source": [
    "def w2v_vectorizer(X):\n",
    "\n",
    "    X_list = [[word for word in line.split()] for line in X]\n",
    "    \n",
    "    # average embeddings for each review\n",
    "    X_vect = []\n",
    "    vocab = set(w2v_model.wv.index_to_key)\n",
    "    for line in X_list:\n",
    "        mean_vec = [0]*100\n",
    "        for word in line:\n",
    "            if word in vocab:\n",
    "                mean_vec = np.add(mean_vec, w2v_model.wv[word])\n",
    "        X_vect.append(np.array(mean_vec/len(line)))\n",
    "\n",
    "    return np.array(X_vect)"
   ]
  },
  {
   "cell_type": "code",
   "execution_count": 75,
   "metadata": {},
   "outputs": [
    {
     "name": "stdout",
     "output_type": "stream",
     "text": [
      "[[-0.44250308 -0.12474672 -0.11875592 ... -0.12294614 -0.01942103\n",
      "   0.0104833 ]\n",
      " [-0.62371868 -0.46918127 -0.41876    ...  0.14540264  0.15781565\n",
      "  -0.41587733]\n",
      " [-0.77591374 -0.39079838 -0.33819434 ...  0.26265447  0.13211061\n",
      "  -0.38795699]\n",
      " ...\n",
      " [-0.30249076 -0.11166037 -0.14121279 ...  0.25851835  0.15269776\n",
      "  -0.36960565]\n",
      " [-0.9231643  -0.41026558 -0.67779348 ...  0.26594043  0.32524223\n",
      "  -0.42071024]\n",
      " [-0.4394797  -0.19827351 -0.24165958 ...  0.09765698  0.37199169\n",
      "  -0.01631636]]\n"
     ]
    }
   ],
   "source": [
    "X_train_vect = w2v_vectorizer(X_train[0:100])\n",
    "\n",
    "print(X_train_vect)"
   ]
  },
  {
   "cell_type": "code",
   "execution_count": 78,
   "metadata": {},
   "outputs": [],
   "source": [
    "def define_model_w2v():\n",
    "    X_train_vect = w2v_vectorizer(X_train)\n",
    "    clf_w2v = MLPClassifier(hidden_layer_sizes=(200,))\n",
    "    clf_w2v.fit(X_train_vect, y_train)\n",
    "    \n",
    "    predict_train = clf_w2v.predict(X_train_vect)\n",
    "    train_accuracy = accuracy_score(y_train, predict_train)\n",
    "\n",
    "    X_valid_vect = w2v_vectorizer(X_valid)\n",
    "    predict_valid = clf_w2v.predict(X_valid_vect)\n",
    "    valid_accuracy = accuracy_score(y_valid, predict_valid)\n",
    "    return clf_w2v, train_accuracy, valid_accuracy\n",
    "    "
   ]
  },
  {
   "cell_type": "code",
   "execution_count": 79,
   "metadata": {},
   "outputs": [
    {
     "name": "stderr",
     "output_type": "stream",
     "text": [
      "/Users/teodorastereciu/opt/miniconda3/lib/python3.9/site-packages/sklearn/neural_network/_multilayer_perceptron.py:702: ConvergenceWarning: Stochastic Optimizer: Maximum iterations (200) reached and the optimization hasn't converged yet.\n",
      "  warnings.warn(\n"
     ]
    },
    {
     "name": "stdout",
     "output_type": "stream",
     "text": [
      "0.950875 0.8456\n"
     ]
    }
   ],
   "source": [
    "model_w2v, train_accuracy_w2v, valid_accuracy_w2v = define_model_w2v()\n",
    "print(train_accuracy_w2v, valid_accuracy_w2v)"
   ]
  }
 ],
 "metadata": {
  "kernelspec": {
   "display_name": "nlp",
   "language": "python",
   "name": "nlp"
  },
  "language_info": {
   "codemirror_mode": {
    "name": "ipython",
    "version": 3
   },
   "file_extension": ".py",
   "mimetype": "text/x-python",
   "name": "python",
   "nbconvert_exporter": "python",
   "pygments_lexer": "ipython3",
   "version": "3.9.12"
  },
  "orig_nbformat": 4,
  "vscode": {
   "interpreter": {
    "hash": "265c7b7388b0d02069e08e7a7606766f6a5cc87543dfe585650412d4cca646af"
   }
  }
 },
 "nbformat": 4,
 "nbformat_minor": 2
}
