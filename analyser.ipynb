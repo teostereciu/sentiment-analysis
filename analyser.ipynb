{
 "cells": [
  {
   "cell_type": "code",
   "execution_count": 1,
   "metadata": {},
   "outputs": [],
   "source": [
    "import numpy as np\n",
    "import pandas as pd\n",
    "import re"
   ]
  },
  {
   "cell_type": "code",
   "execution_count": 3,
   "metadata": {},
   "outputs": [
    {
     "name": "stdout",
     "output_type": "stream",
     "text": [
      "0    I grew up (b. 1965) watching and loving the Th...\n",
      "1    When I put this movie in my DVD player, and sa...\n",
      "2    Why do people who do not know what a particula...\n",
      "3    Even though I have great interest in Biblical ...\n",
      "4    Im a die hard Dads Army fan and nothing will e...\n",
      "Name: text, dtype: object\n"
     ]
    }
   ],
   "source": [
    "# load dataset into memory\n",
    "def load_data (filename):\n",
    "    df = pd.read_csv(filename)\n",
    "    corpus = df[\"text\"]\n",
    "    y = df[\"label\"]\n",
    "    return corpus, y\n",
    "\n",
    "corpus_valid, y_valid = load_data(\"IMDB/Valid.csv\")\n",
    "corpus_train, y_train = load_data(\"IMDB/Train.csv\")\n",
    "corpus_test, y_test = load_data(\"IMDB/Test.csv\")\n",
    "print(corpus_train.head())"
   ]
  },
  {
   "cell_type": "code",
   "execution_count": null,
   "metadata": {},
   "outputs": [],
   "source": [
    "# turn the dataset into clean tokens\n",
    "def clean_data(doc, vocab):\n",
    "    pass"
   ]
  },
  {
   "cell_type": "code",
   "execution_count": null,
   "metadata": {},
   "outputs": [],
   "source": [
    "# preprocess the dataset\n",
    "def process_data():\n",
    "    pass"
   ]
  },
  {
   "cell_type": "code",
   "execution_count": null,
   "metadata": {},
   "outputs": [],
   "source": [
    "# define the model\n",
    "def define_model():\n",
    "    pass"
   ]
  },
  {
   "cell_type": "code",
   "execution_count": null,
   "metadata": {},
   "outputs": [],
   "source": [
    "# classify a review as negative or positive.\n",
    "def predict_sentiment():\n",
    "    pass"
   ]
  }
 ],
 "metadata": {
  "kernelspec": {
   "display_name": "base",
   "language": "python",
   "name": "python3"
  },
  "language_info": {
   "codemirror_mode": {
    "name": "ipython",
    "version": 3
   },
   "file_extension": ".py",
   "mimetype": "text/x-python",
   "name": "python",
   "nbconvert_exporter": "python",
   "pygments_lexer": "ipython3",
   "version": "3.9.12"
  },
  "orig_nbformat": 4,
  "vscode": {
   "interpreter": {
    "hash": "7c485f4c082655332133d396a2abf30aca23f9ae0653a7c580a74b33ac31b6fa"
   }
  }
 },
 "nbformat": 4,
 "nbformat_minor": 2
}
